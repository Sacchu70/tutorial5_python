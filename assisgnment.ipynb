{
 "cells": [
  {
   "cell_type": "markdown",
   "id": "9a0168d9-843a-40ed-99e7-0f0729256664",
   "metadata": {},
   "source": [
    "Q1. What is Abstraction in OOps? Explain with an example."
   ]
  },
  {
   "cell_type": "markdown",
   "id": "53a2d7da-373e-40c9-b5fc-442a4cf3eae1",
   "metadata": {},
   "source": [
    "Abstartion is a process in which abstract a class elements in another class.   "
   ]
  },
  {
   "cell_type": "code",
   "execution_count": 3,
   "id": "acf3dbe2-009e-47e9-94ae-6c5063dc98f6",
   "metadata": {},
   "outputs": [],
   "source": [
    "import abc\n",
    "class sport:\n",
    "    @abc.abstractmethod\n",
    "    def no_of_players(self):\n",
    "          pass\n",
    "    @abc.abstractmethod    \n",
    "    def duration_of_match(self):\n",
    "         pass\n"
   ]
  },
  {
   "cell_type": "code",
   "execution_count": 13,
   "id": "b035aea8-8626-4fff-9ff2-4e2e272b5aa9",
   "metadata": {},
   "outputs": [],
   "source": [
    "class cricket(sport):\n",
    "    @classmethod\n",
    "    def no_of_players(cls, players = 24):\n",
    "        return print(\"The number of players is\",players)\n",
    "    @classmethod\n",
    "    def duration_of_match(cls,duration = \"50 min.\"):\n",
    "        return print(\"Duration of match is\",duration)"
   ]
  },
  {
   "cell_type": "code",
   "execution_count": 14,
   "id": "5ab69fc5-b673-4cce-acda-59d5decec955",
   "metadata": {},
   "outputs": [
    {
     "name": "stdout",
     "output_type": "stream",
     "text": [
      "Duration of match is 50 min.\n"
     ]
    }
   ],
   "source": [
    "cricket.duration_of_match()"
   ]
  },
  {
   "cell_type": "code",
   "execution_count": 15,
   "id": "2799d731-d724-45ed-8008-f61f0c076b65",
   "metadata": {},
   "outputs": [
    {
     "name": "stdout",
     "output_type": "stream",
     "text": [
      "The number of players is 24\n"
     ]
    }
   ],
   "source": [
    "cricket.no_of_players()"
   ]
  },
  {
   "cell_type": "markdown",
   "id": "3e01890c-7758-4762-87b3-16b648cf6faa",
   "metadata": {},
   "source": [
    "Q2. Differentiate between Abstraction and Encapsulation. Explain with an example."
   ]
  },
  {
   "cell_type": "markdown",
   "id": "bb6af1e6-6ad5-435a-9b5f-97a53d55d4d9",
   "metadata": {},
   "source": [
    "Abstraction is used to hide interface details in application from outside world give simple and easy method to access and operate application to user. whereas Encapsulation is used to hide variable or implemantation in a specific class and gives other method to user to give access (setter , getter, deleter)"
   ]
  },
  {
   "cell_type": "code",
   "execution_count": null,
   "id": "4f92dda6-4093-4981-9c8a-38c6f94921a4",
   "metadata": {},
   "outputs": [],
   "source": [
    "class pwskills:\n",
    "    def __init__(self,name):\n",
    "        self.__name = name\n",
    "        \n",
    "s1 = pwskills(\"sachin\")\n"
   ]
  },
  {
   "cell_type": "markdown",
   "id": "9e655b43-b017-47d0-a901-62f0af93c7cb",
   "metadata": {},
   "source": [
    "Q3. What is abc module in python? Why is it used?"
   ]
  },
  {
   "cell_type": "markdown",
   "id": "8fac694a-ca45-453f-bc7f-4a8201b7549e",
   "metadata": {},
   "source": [
    "abc module is method to help abstract of class method in another class.\n",
    "It's use is of abstract of class."
   ]
  },
  {
   "cell_type": "markdown",
   "id": "0fcbc046-c180-437d-bbab-214f36ac2fd7",
   "metadata": {},
   "source": [
    "Q4. How can we achieve data abstraction?"
   ]
  },
  {
   "cell_type": "markdown",
   "id": "b0229c50-36e7-432c-9903-183d3dd6623f",
   "metadata": {},
   "source": [
    "Data abstraction can we achive with the help of import abc moule and used decorator(abstractmethod). "
   ]
  },
  {
   "cell_type": "markdown",
   "id": "d1841b67-74b9-4dfa-b565-69023791067b",
   "metadata": {},
   "source": [
    "Q5. Can we create an instance of an abstract class? Explain your answer."
   ]
  },
  {
   "cell_type": "code",
   "execution_count": 16,
   "id": "b7cd58b3-607e-4d22-b094-fef8ad78e1b0",
   "metadata": {},
   "outputs": [],
   "source": [
    "import abc\n",
    "class sport:\n",
    "    @abc.abstractmethod\n",
    "    def no_of_players(self):\n",
    "          pass\n",
    "    @abc.abstractmethod    \n",
    "    def duration_of_match(self):\n",
    "         pass\n"
   ]
  },
  {
   "cell_type": "code",
   "execution_count": 17,
   "id": "3db8be7a-1585-4a4e-85f3-69e810dc0901",
   "metadata": {},
   "outputs": [],
   "source": [
    "cricket = sport()\n",
    "football = sport()\n",
    "vollyball = sport()"
   ]
  },
  {
   "cell_type": "code",
   "execution_count": 18,
   "id": "ad9b25d5-8271-4e52-83d3-4218ed8cae64",
   "metadata": {},
   "outputs": [],
   "source": [
    "cricket.duration_of_match()"
   ]
  },
  {
   "cell_type": "markdown",
   "id": "689a16d0-a123-4493-90c5-b9190fda2539",
   "metadata": {},
   "source": [
    "yes,we can create an instance of an abstract class"
   ]
  }
 ],
 "metadata": {
  "kernelspec": {
   "display_name": "Python 3 (ipykernel)",
   "language": "python",
   "name": "python3"
  },
  "language_info": {
   "codemirror_mode": {
    "name": "ipython",
    "version": 3
   },
   "file_extension": ".py",
   "mimetype": "text/x-python",
   "name": "python",
   "nbconvert_exporter": "python",
   "pygments_lexer": "ipython3",
   "version": "3.10.8"
  }
 },
 "nbformat": 4,
 "nbformat_minor": 5
}
